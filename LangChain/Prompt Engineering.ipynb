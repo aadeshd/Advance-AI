{
 "cells": [
  {
   "cell_type": "code",
   "execution_count": 20,
   "id": "edfd5c18",
   "metadata": {},
   "outputs": [],
   "source": [
    "from langchain_openai import ChatOpenAI\n",
    "from dotenv import load_dotenv"
   ]
  },
  {
   "cell_type": "code",
   "execution_count": 2,
   "id": "be639644",
   "metadata": {},
   "outputs": [
    {
     "data": {
      "text/plain": [
       "True"
      ]
     },
     "execution_count": 2,
     "metadata": {},
     "output_type": "execute_result"
    }
   ],
   "source": [
    "load_dotenv()"
   ]
  },
  {
   "cell_type": "code",
   "execution_count": 3,
   "id": "2f557f57",
   "metadata": {},
   "outputs": [],
   "source": [
    "llm = ChatOpenAI(\n",
    "    model=\"gpt-4o\",\n",
    "    temperature=0,\n",
    "    max_tokens=1000,\n",
    "    timeout=None,\n",
    "    max_retries=2,\n",
    "    top_p=0.95\n",
    ")"
   ]
  },
  {
   "cell_type": "markdown",
   "id": "04d98b49",
   "metadata": {},
   "source": [
    "## Zero Shot Prompting"
   ]
  },
  {
   "cell_type": "code",
   "execution_count": 5,
   "id": "da98faca",
   "metadata": {},
   "outputs": [],
   "source": [
    "zero_shot_prompt = \"Write a small story about greedy politician in Pune, India\""
   ]
  },
  {
   "cell_type": "code",
   "execution_count": null,
   "id": "8723e89c",
   "metadata": {},
   "outputs": [],
   "source": [
    "response = llm.invoke(zero_shot_prompt)\n"
   ]
  },
  {
   "cell_type": "code",
   "execution_count": null,
   "id": "f16557e9",
   "metadata": {},
   "outputs": [
    {
     "data": {
      "text/plain": [
       "\"In the bustling city of Pune, nestled among the Western Ghats, there lived a politician named Raghav Deshmukh. Raghav was a man of humble beginnings, having grown up in a modest neighborhood. His early life was marked by a genuine desire to serve the people and bring about positive change. However, as he climbed the political ladder, the intoxicating allure of power and wealth began to cloud his judgment.\\n\\nRaghav's rise to prominence was meteoric. He was charismatic, eloquent, and had a knack for connecting with the common man. His promises of development and prosperity resonated with the citizens of Pune, and they elected him with overwhelming support. But as the years went by, the idealistic young man transformed into a shrewd and greedy politician.\\n\\nOnce in power, Raghav's priorities shifted. He became more interested in lining his pockets than fulfilling his promises. He forged alliances with influential businessmen, granting them lucrative contracts in exchange for hefty kickbacks. Infrastructure projects that were meant to benefit the public were delayed or abandoned, as funds mysteriously disappeared into the coffers of Raghav and his cronies.\\n\\nThe people of Pune began to notice the cracks in Raghav's facade. Roads remained potholed, public services deteriorated, and the gap between the rich and the poor widened. Yet, Raghav continued to paint a rosy picture of progress, using his oratory skills to deflect criticism and maintain his grip on power.\\n\\nOne day, a young journalist named Meera decided to investigate the discrepancies in the city's development projects. She was determined to uncover the truth behind the politician's empty promises. Meera's investigation led her to a trail of corruption that pointed directly to Raghav. Armed with evidence, she published a series of articles exposing the extent of his greed and deceit.\\n\\nThe revelations sent shockwaves through Pune. The people, once enamored by Raghav's charisma, felt betrayed. Protests erupted across the city, demanding accountability and justice. Under mounting pressure, the authorities launched an investigation into Raghav's dealings.\\n\\nAs the evidence piled up, Raghav's empire began to crumble. His allies distanced themselves, and his once-loyal supporters turned their backs on him. In a dramatic turn of events, Raghav was arrested and charged with corruption, fraud, and abuse of power.\\n\\nThe fall of Raghav Deshmukh served as a cautionary tale for the people of Pune. It reminded them of the importance of vigilance and the need to hold their leaders accountable. As for Raghav, he spent his days reflecting on the choices he had made, realizing too late that his greed had cost him everything he once held dear.\\n\\nIn the end, Pune emerged stronger, with its citizens more determined than ever to build a future free from the shadows of corruption. And as the city moved forward, it carried with it the lessons learned from the rise and fall of a greedy politician.\""
      ]
     },
     "execution_count": 7,
     "metadata": {},
     "output_type": "execute_result"
    }
   ],
   "source": [
    "response.content"
   ]
  },
  {
   "cell_type": "code",
   "execution_count": 8,
   "id": "61ea9d70",
   "metadata": {},
   "outputs": [],
   "source": [
    "sample_text = \"\"\"\n",
    "Estimados señores,\n",
    "\n",
    "Quiero expresar mi total insatisfacción con el servicio que he recibido. Hice un pedido el 15 de abril y hasta el día de hoy, 2 de mayo, no he recibido ninguna actualización ni el producto. He intentado comunicarme varias veces por teléfono y correo, pero no obtuve ninguna respuesta.\n",
    "\n",
    "Francamente, estoy muy decepcionado. No esperaba este nivel de descuido de su parte. Si no recibo una solución inmediata y clara en las próximas 24 horas, me veré obligado a cancelar mi pedido y compartir mi experiencia en redes sociales y foros de opinión.\n",
    "\n",
    "Espero una pronta respuesta.\n",
    "\n",
    "Atentamente,\n",
    "Juan Martínez\n",
    "\"\"\""
   ]
  },
  {
   "cell_type": "code",
   "execution_count": 12,
   "id": "7c0ac563",
   "metadata": {},
   "outputs": [],
   "source": [
    "style = \"\"\"American English \\ in calm and respectul tone\"\"\""
   ]
  },
  {
   "cell_type": "code",
   "execution_count": 15,
   "id": "e8da5aff",
   "metadata": {},
   "outputs": [
    {
     "name": "stdout",
     "output_type": "stream",
     "text": [
      "\n",
      "    Translate the text that is delimitatd by triple backtricks into a style that is American English \\ in calm and respectul tone.\n",
      "    Text : ```\n",
      "Estimados señores,\n",
      "\n",
      "Quiero expresar mi total insatisfacción con el servicio que he recibido. Hice un pedido el 15 de abril y hasta el día de hoy, 2 de mayo, no he recibido ninguna actualización ni el producto. He intentado comunicarme varias veces por teléfono y correo, pero no obtuve ninguna respuesta.\n",
      "\n",
      "Francamente, estoy muy decepcionado. No esperaba este nivel de descuido de su parte. Si no recibo una solución inmediata y clara en las próximas 24 horas, me veré obligado a cancelar mi pedido y compartir mi experiencia en redes sociales y foros de opinión.\n",
      "\n",
      "Espero una pronta respuesta.\n",
      "\n",
      "Atentamente,\n",
      "Juan Martínez\n",
      "```\n",
      "\n"
     ]
    }
   ],
   "source": [
    "prompt = f\"\"\"\n",
    "    Translate the text that is delimitatd by triple backtricks into a style that is {style}.\n",
    "    Text : ```{sample_text}```\n",
    "\"\"\"\n",
    "\n",
    "print(prompt)"
   ]
  },
  {
   "cell_type": "code",
   "execution_count": 16,
   "id": "6150cde8",
   "metadata": {},
   "outputs": [],
   "source": [
    "response = llm.invoke(prompt)"
   ]
  },
  {
   "cell_type": "code",
   "execution_count": 17,
   "id": "9fd5477f",
   "metadata": {},
   "outputs": [
    {
     "data": {
      "text/plain": [
       "'Dear Sirs,\\n\\nI would like to express my complete dissatisfaction with the service I have received. I placed an order on April 15th, and as of today, May 2nd, I have not received any updates or the product. I have attempted to contact you several times by phone and email, but have not received any response.\\n\\nFrankly, I am very disappointed. I did not expect this level of oversight from your company. If I do not receive an immediate and clear solution within the next 24 hours, I will be compelled to cancel my order and share my experience on social media and review forums.\\n\\nI look forward to your prompt response.\\n\\nSincerely,  \\nJuan Martínez'"
      ]
     },
     "execution_count": 17,
     "metadata": {},
     "output_type": "execute_result"
    }
   ],
   "source": [
    "response.content"
   ]
  },
  {
   "cell_type": "markdown",
   "id": "ef9bdafc",
   "metadata": {},
   "source": [
    "## Prompt template\n",
    "\n",
    "A prompt template is a structured format that contains placeholders that can be dynamically filled at runtime, allowing flexiable and automated construction of prompt at run time"
   ]
  },
  {
   "cell_type": "code",
   "execution_count": 46,
   "id": "da372f56",
   "metadata": {},
   "outputs": [],
   "source": [
    "prompt = \"\"\"Translate the text that is delimitatd by triple backtricks into a style that is {style}.\n",
    "Text : ```{text}```\n",
    "\"\"\""
   ]
  },
  {
   "cell_type": "code",
   "execution_count": 47,
   "id": "e44e193d",
   "metadata": {},
   "outputs": [],
   "source": [
    "from langchain.prompts import ChatPromptTemplate"
   ]
  },
  {
   "cell_type": "code",
   "execution_count": 48,
   "id": "e411608c",
   "metadata": {},
   "outputs": [
    {
     "name": "stdout",
     "output_type": "stream",
     "text": [
      "input_variables=['style', 'text'] input_types={} partial_variables={} messages=[HumanMessagePromptTemplate(prompt=PromptTemplate(input_variables=['style', 'text'], input_types={}, partial_variables={}, template='Translate the text that is delimitatd by triple backtricks into a style that is {style}.\\nText : ```{text}```\\n'), additional_kwargs={})]\n",
      "\n",
      "['style', 'text']\n"
     ]
    }
   ],
   "source": [
    "prompt_template = ChatPromptTemplate.from_template(prompt)\n",
    "print(prompt_template)\n",
    "print()\n",
    "print(prompt_template.messages[0].prompt.input_variables)"
   ]
  },
  {
   "cell_type": "code",
   "execution_count": 54,
   "id": "a6d72db7",
   "metadata": {},
   "outputs": [],
   "source": [
    "style = 'Marathi \\\\ in calm and respectul tone'"
   ]
  },
  {
   "cell_type": "code",
   "execution_count": 55,
   "id": "910ade1d",
   "metadata": {},
   "outputs": [],
   "source": [
    "cutomer_message = prompt_template.format_messages(text = sample_text, style = style)"
   ]
  },
  {
   "cell_type": "code",
   "execution_count": 56,
   "id": "fe306a1a",
   "metadata": {},
   "outputs": [
    {
     "data": {
      "text/plain": [
       "'Translate the text that is delimitatd by triple backtricks into a style that is Marathi \\\\ in calm and respectul tone.\\nText : ```\\nEstimados señores,\\n\\nQuiero expresar mi total insatisfacción con el servicio que he recibido. Hice un pedido el 15 de abril y hasta el día de hoy, 2 de mayo, no he recibido ninguna actualización ni el producto. He intentado comunicarme varias veces por teléfono y correo, pero no obtuve ninguna respuesta.\\n\\nFrancamente, estoy muy decepcionado. No esperaba este nivel de descuido de su parte. Si no recibo una solución inmediata y clara en las próximas 24 horas, me veré obligado a cancelar mi pedido y compartir mi experiencia en redes sociales y foros de opinión.\\n\\nEspero una pronta respuesta.\\n\\nAtentamente,\\nJuan Martínez\\n```\\n'"
      ]
     },
     "execution_count": 56,
     "metadata": {},
     "output_type": "execute_result"
    }
   ],
   "source": [
    "cutomer_message[0].content"
   ]
  },
  {
   "cell_type": "code",
   "execution_count": 57,
   "id": "dc6c409c",
   "metadata": {},
   "outputs": [],
   "source": [
    "response = llm.invoke(cutomer_message)"
   ]
  },
  {
   "cell_type": "code",
   "execution_count": 58,
   "id": "e046b6a6",
   "metadata": {},
   "outputs": [
    {
     "data": {
      "text/plain": [
       "'प्रिय महोदय,\\n\\nमी मिळालेल्या सेवेसंदर्भात माझ्या पूर्ण असंतोषाची व्यक्त करतो. मी १५ एप्रिल रोजी एक ऑर्डर दिली होती आणि आज २ मे पर्यंत मला कोणतीही अद्ययावत माहिती किंवा उत्पादन मिळालेले नाही. मी फोन आणि ईमेलद्वारे अनेक वेळा संपर्क साधण्याचा प्रयत्न केला, परंतु मला कोणताही प्रतिसाद मिळाला नाही.\\n\\nप्रामाणिकपणे सांगायचे तर, मी खूप निराश आहे. तुमच्याकडून अशा प्रकारच्या दुर्लक्षाची अपेक्षा नव्हती. जर मला पुढील २४ तासांत त्वरित आणि स्पष्ट समाधान मिळाले नाही, तर मला माझी ऑर्डर रद्द करावी लागेल आणि माझा अनुभव सोशल मीडियावर आणि मतांच्या मंचांवर शेअर करावा लागेल.\\n\\nतुमच्या त्वरित प्रतिसादाची अपेक्षा आहे.\\n\\nआदरपूर्वक,\\nजुआन मार्टिनेज'"
      ]
     },
     "execution_count": 58,
     "metadata": {},
     "output_type": "execute_result"
    }
   ],
   "source": [
    "response.content"
   ]
  },
  {
   "cell_type": "markdown",
   "id": "ff7f24a3",
   "metadata": {},
   "source": [
    "## Few shot prompting\n",
    "\n",
    "Provide few examples to the model to understand the exact ask"
   ]
  },
  {
   "cell_type": "code",
   "execution_count": 63,
   "id": "af7e301a",
   "metadata": {},
   "outputs": [],
   "source": [
    "examples = [\n",
    "    {\"text\":\"हा अनुभव खूपच अप्रतिम होता, पुन्हा नक्की येईन!\",\"label\":\"Positive\"},\n",
    "    {\"text\":\"अनुभव फारच निराशाजनक होता, अपेक्षा पूर्ण झाल्या नाहीत.\",\"label\":\"Negative\"},\n",
    "    {\"text\":\"सेवा आणि गुणवत्ता दोन्ही उत्कृष्ट आहेत!\",\"label\":\"Positive\"}\n",
    "]"
   ]
  },
  {
   "cell_type": "code",
   "execution_count": 64,
   "id": "246f67eb",
   "metadata": {},
   "outputs": [],
   "source": [
    "from langchain import PromptTemplate"
   ]
  },
  {
   "cell_type": "code",
   "execution_count": 65,
   "id": "1a1d7176",
   "metadata": {},
   "outputs": [],
   "source": [
    "example_prompt = PromptTemplate(\n",
    "    input_variables=[\"text\",\"label\"],\n",
    "    template = \"Text:{text}\\nSentiments:{label}\"\n",
    ")"
   ]
  },
  {
   "cell_type": "code",
   "execution_count": 66,
   "id": "55432035",
   "metadata": {},
   "outputs": [],
   "source": [
    "from langchain.prompts import FewShotPromptTemplate"
   ]
  },
  {
   "cell_type": "code",
   "execution_count": 69,
   "id": "baa46efd",
   "metadata": {},
   "outputs": [],
   "source": [
    "few_shots_prompt = FewShotPromptTemplate(\n",
    "    examples=examples,\n",
    "    example_prompt=example_prompt,\n",
    "    prefix = \"Classify sentiment of following text :\\n\",\n",
    "    suffix = \"\\n Text:{text}\\nSentiments:\",\n",
    "    input_variables = ['text']\n",
    ")\n",
    "\n",
    "formatted_few_shot_prompt = few_shots_prompt.format(text=\"वेळेवर सेवा मिळाली नाही, फार वाईट वाटलं.\")"
   ]
  },
  {
   "cell_type": "code",
   "execution_count": 71,
   "id": "c83a540a",
   "metadata": {},
   "outputs": [
    {
     "name": "stdout",
     "output_type": "stream",
     "text": [
      "Classify sentiment of following text :\n",
      "\n",
      "\n",
      "Text:हा अनुभव खूपच अप्रतिम होता, पुन्हा नक्की येईन!\n",
      "Sentiments:Positive\n",
      "\n",
      "Text:अनुभव फारच निराशाजनक होता, अपेक्षा पूर्ण झाल्या नाहीत.\n",
      "Sentiments:Negative\n",
      "\n",
      "Text:सेवा आणि गुणवत्ता दोन्ही उत्कृष्ट आहेत!\n",
      "Sentiments:Positive\n",
      "\n",
      "\n",
      " Text:वेळेवर सेवा मिळाली नाही, फार वाईट वाटलं.\n",
      "Sentiments:\n"
     ]
    }
   ],
   "source": [
    "print(formatted_few_shot_prompt)"
   ]
  },
  {
   "cell_type": "code",
   "execution_count": 72,
   "id": "2bec1bb2",
   "metadata": {},
   "outputs": [],
   "source": [
    "response = llm.invoke(formatted_few_shot_prompt)"
   ]
  },
  {
   "cell_type": "code",
   "execution_count": 73,
   "id": "81c62d98",
   "metadata": {},
   "outputs": [
    {
     "data": {
      "text/plain": [
       "'Negative'"
      ]
     },
     "execution_count": 73,
     "metadata": {},
     "output_type": "execute_result"
    }
   ],
   "source": [
    "response.content"
   ]
  },
  {
   "cell_type": "markdown",
   "id": "97237ad7",
   "metadata": {},
   "source": [
    "# Chain of thoughts"
   ]
  },
  {
   "cell_type": "code",
   "execution_count": 74,
   "id": "1d6a0d11",
   "metadata": {},
   "outputs": [],
   "source": [
    "from langchain.chains import LLMChain"
   ]
  },
  {
   "cell_type": "code",
   "execution_count": null,
   "id": "511bdc1b",
   "metadata": {},
   "outputs": [],
   "source": [
    "sample_prompt = ChatPromptTemplate.from_template(\"Which is the best {product} and what could be their possible {feature}. Use Humor\")"
   ]
  },
  {
   "cell_type": "code",
   "execution_count": 76,
   "id": "cbb437a9",
   "metadata": {},
   "outputs": [],
   "source": [
    "chain = sample_prompt | llm"
   ]
  },
  {
   "cell_type": "code",
   "execution_count": 82,
   "id": "cf4be69c",
   "metadata": {},
   "outputs": [],
   "source": [
    "product = \"IPL Team\"\n",
    "feature = \"Tagline\"\n",
    "response = chain.invoke(input={\"product\":product,\"feature\":feature})"
   ]
  },
  {
   "cell_type": "code",
   "execution_count": 83,
   "id": "670f65b9",
   "metadata": {},
   "outputs": [
    {
     "data": {
      "text/plain": [
       "'Determining the \"best\" IPL team is always subjective and can spark lively debates among cricket fans. However, if we were to humorously crown a team, let\\'s say the Chennai Super Kings (CSK), known for their consistent performances and loyal fan base, could be considered.\\n\\nPossible Tagline: \"Chennai Super Kings: Turning \\'Whistle Podu\\' into \\'Whistle Podium\\' since 2008!\"'"
      ]
     },
     "execution_count": 83,
     "metadata": {},
     "output_type": "execute_result"
    }
   ],
   "source": [
    "response.content"
   ]
  },
  {
   "cell_type": "markdown",
   "id": "6285e156",
   "metadata": {},
   "source": [
    "\n",
    "## Simple sequential chain\n",
    "\n",
    "Type of technique in prompting where output of one chain is passed to other chain as an input. \n",
    "Setting up a sequence of steps where each one is build on previous one just like human reasoning"
   ]
  },
  {
   "cell_type": "markdown",
   "id": "6c86d304",
   "metadata": {},
   "source": [
    "In the Example below , we have a Goal to get the Best IPL team and their possible tagline. To solve this problem, will break this problem in the steps below.\n",
    "\n",
    "Get the Best IPL Team\n",
    "Get the Tagline for the team, output from step-1"
   ]
  },
  {
   "cell_type": "code",
   "execution_count": 84,
   "id": "b3f42fbe",
   "metadata": {},
   "outputs": [],
   "source": [
    "from langchain.chains import SimpleSequentialChain"
   ]
  },
  {
   "cell_type": "code",
   "execution_count": 86,
   "id": "25eb4fb2",
   "metadata": {},
   "outputs": [],
   "source": [
    "# prompt_template 1\n",
    "first_prompt = ChatPromptTemplate.from_template (\"what is the best {product}. Only provide the name for same\")\n",
    "\n",
    "# chain1 \n",
    "chain_one=LLMChain(llm=llm,prompt=first_prompt)"
   ]
  },
  {
   "cell_type": "code",
   "execution_count": 87,
   "id": "840fe553",
   "metadata": {},
   "outputs": [],
   "source": [
    "# prompt_template 2\n",
    "second_prompt = ChatPromptTemplate.from_template (\"write a Hillarious Tagline for the following {company}\") \n",
    "\n",
    "# chain 2\n",
    "chain_two=LLMChain(llm=llm,prompt=second_prompt)"
   ]
  },
  {
   "cell_type": "code",
   "execution_count": 88,
   "id": "47b9a898",
   "metadata": {},
   "outputs": [],
   "source": [
    "sequential_chain = SimpleSequentialChain(chains=[chain_one,chain_two],verbose=True)\n"
   ]
  },
  {
   "cell_type": "code",
   "execution_count": 89,
   "id": "e9522634",
   "metadata": {},
   "outputs": [
    {
     "name": "stderr",
     "output_type": "stream",
     "text": [
      "C:\\Users\\Dnyanesh\\AppData\\Local\\Temp\\ipykernel_41564\\3561215975.py:1: LangChainDeprecationWarning: The method `Chain.run` was deprecated in langchain 0.1.0 and will be removed in 1.0. Use :meth:`~invoke` instead.\n",
      "  sequential_chain.run(product)\n"
     ]
    },
    {
     "name": "stdout",
     "output_type": "stream",
     "text": [
      "\n",
      "\n",
      "\u001b[1m> Entering new SimpleSequentialChain chain...\u001b[0m\n",
      "\u001b[36;1m\u001b[1;3mMumbai Indians.\u001b[0m\n",
      "\u001b[33;1m\u001b[1;3m\"Blue and Gold: Because Winning in Style is Always in Season!\"\u001b[0m\n",
      "\n",
      "\u001b[1m> Finished chain.\u001b[0m\n"
     ]
    },
    {
     "data": {
      "text/plain": [
       "'\"Blue and Gold: Because Winning in Style is Always in Season!\"'"
      ]
     },
     "execution_count": 89,
     "metadata": {},
     "output_type": "execute_result"
    }
   ],
   "source": [
    "sequential_chain.run(product)"
   ]
  },
  {
   "cell_type": "markdown",
   "id": "94ddf292",
   "metadata": {},
   "source": [
    "## Sequential Chain\n",
    "A Sequential Chain is a chain where multiple LLM-powered steps are executed one after another, and the output of one step becomes the input for the next."
   ]
  },
  {
   "cell_type": "code",
   "execution_count": 90,
   "id": "bd8a2edd",
   "metadata": {},
   "outputs": [],
   "source": [
    "from langchain.chains import SequentialChain"
   ]
  },
  {
   "cell_type": "code",
   "execution_count": 92,
   "id": "031a8590",
   "metadata": {},
   "outputs": [],
   "source": [
    "\n",
    "# prompt template 1 : translate the review in english \n",
    "first_prompt = ChatPromptTemplate.from_template(\"translate the following review in Marathi \\n\\n {Review}\")\n",
    "\n",
    "# chain one\n",
    "chain_one = LLMChain(llm=llm, prompt=first_prompt, output_key= \"Marathi_Review\")"
   ]
  },
  {
   "cell_type": "code",
   "execution_count": 93,
   "id": "78d620ce",
   "metadata": {},
   "outputs": [],
   "source": [
    "# prompt template 2 : summarize the review \n",
    "second_prompt = ChatPromptTemplate.from_template(\"Can you summarize the following input into 1 sentence \\n\\n {Marathi_Review}\")\n",
    "\n",
    "# chain two\n",
    "chain_two = LLMChain(llm=llm,prompt=second_prompt,output_key=\"summary\" )"
   ]
  },
  {
   "cell_type": "code",
   "execution_count": 94,
   "id": "00e1d3e3",
   "metadata": {},
   "outputs": [],
   "source": [
    "# prompt template 3 : language of the review\n",
    "third_prompt = ChatPromptTemplate.from_template(\"what language is the following review \\n\\n {Review}\")\n",
    "\n",
    "# chain three\n",
    "chain_three = LLMChain(llm=llm,prompt=third_prompt,output_key=\"language\" )"
   ]
  },
  {
   "cell_type": "code",
   "execution_count": 95,
   "id": "1297ab22",
   "metadata": {},
   "outputs": [],
   "source": [
    "# prompt template 4 : followup message\n",
    "fourth_prompt = ChatPromptTemplate.from_template ( \"Write a followup response to the customer to the following\" \n",
    "                                                  \"summary in the following language\" \n",
    "                                                  \"\\n\\n Summary: {summary} \\n\\nLanguage: {language}\" )\n",
    "\n",
    "                                                 \n",
    "\n",
    "# chain four\n",
    "chain_four = LLMChain(llm=llm,prompt=fourth_prompt,output_key=\"followup_message\" )"
   ]
  },
  {
   "cell_type": "code",
   "execution_count": 96,
   "id": "40bc8750",
   "metadata": {},
   "outputs": [],
   "source": [
    "# prompt template 5 : translate followup message in Marathi\n",
    "fifth_prompt = ChatPromptTemplate.from_template ( \"translate the following message in Marathi \\n\\n {followup_message}\" ) \n",
    "\n",
    "# chain five\n",
    "chain_five = LLMChain(llm=llm,prompt=fifth_prompt,output_key=\"Marathi_followup_message\" )"
   ]
  },
  {
   "cell_type": "code",
   "execution_count": 97,
   "id": "f176eb55",
   "metadata": {},
   "outputs": [],
   "source": [
    "overall_chain = SequentialChain(\n",
    "    chains=[chain_one,chain_two,chain_three,chain_four,chain_five],\n",
    "    input_variables=[\"Review\"], \n",
    "    output_variables=[\"Marathi_Review\",\"summary\",\"language\",\"followup_message\",\"Marathi_followup_message\"],\n",
    "    verbose=True )"
   ]
  },
  {
   "cell_type": "code",
   "execution_count": 100,
   "id": "9290f3c7",
   "metadata": {},
   "outputs": [],
   "source": [
    "Review = \"Das Essen war fantastisch, ich komme gerne wieder! Die Bedienung war sehr freundlich und aufmerksam. Das Ambiente im Restaurant war gemütlich und einladend. Die Preise waren fair für die Qualität. Ich kann dieses Restaurant absolut empfehlen!\""
   ]
  },
  {
   "cell_type": "code",
   "execution_count": 102,
   "id": "7cb1cc48",
   "metadata": {},
   "outputs": [
    {
     "name": "stdout",
     "output_type": "stream",
     "text": [
      "\n",
      "\n",
      "\u001b[1m> Entering new SequentialChain chain...\u001b[0m\n",
      "\n",
      "\u001b[1m> Finished chain.\u001b[0m\n"
     ]
    }
   ],
   "source": [
    "response = overall_chain.invoke(input={\"Review\":Review})"
   ]
  },
  {
   "cell_type": "code",
   "execution_count": 106,
   "id": "78cab9d5",
   "metadata": {},
   "outputs": [
    {
     "data": {
      "text/plain": [
       "{'Review': 'Das Essen war fantastisch, ich komme gerne wieder! Die Bedienung war sehr freundlich und aufmerksam. Das Ambiente im Restaurant war gemütlich und einladend. Die Preise waren fair für die Qualität. Ich kann dieses Restaurant absolut empfehlen!',\n",
       " 'Marathi_Review': 'अन्न अप्रतिम होते, मी पुन्हा यायला आवडेल! सेवा खूपच मैत्रीपूर्ण आणि लक्ष देणारी होती. रेस्टॉरंटमधील वातावरण आरामदायी आणि आमंत्रक होते. गुणवत्तेसाठी किंमती योग्य होत्या. मी हे रेस्टॉरंट नक्कीच शिफारस करू शकतो!',\n",
       " 'summary': 'अन्न अप्रतिम, सेवा मैत्रीपूर्ण, वातावरण आरामदायी, आणि किंमती योग्य असल्याने मी हे रेस्टॉरंट नक्कीच शिफारस करू शकतो आणि पुन्हा यायला आवडेल!',\n",
       " 'language': 'The review is in German.',\n",
       " 'followup_message': 'Vielen Dank für Ihr positives Feedback! Es freut uns sehr zu hören, dass Ihnen unser Essen, der freundliche Service und die angenehme Atmosphäre gefallen haben. Wir sind stolz darauf, Ihnen ein großartiges Erlebnis zu bieten, und freuen uns darauf, Sie bald wieder bei uns begrüßen zu dürfen. Bis zum nächsten Mal!',\n",
       " 'Marathi_followup_message': 'आपल्या सकारात्मक अभिप्रायाबद्दल खूप धन्यवाद! आपल्याला आमचे अन्न, मैत्रीपूर्ण सेवा आणि आनंददायी वातावरण आवडले हे ऐकून आम्हाला खूप आनंद झाला. आपल्याला एक उत्कृष्ट अनुभव देण्याचा आम्हाला अभिमान आहे आणि लवकरच आपले पुन्हा स्वागत करण्यास आम्ही उत्सुक आहोत. पुढच्या वेळेपर्यंत!'}"
      ]
     },
     "execution_count": 106,
     "metadata": {},
     "output_type": "execute_result"
    }
   ],
   "source": [
    "response"
   ]
  },
  {
   "cell_type": "code",
   "execution_count": 107,
   "id": "7ab69408",
   "metadata": {},
   "outputs": [
    {
     "data": {
      "text/plain": [
       "'Vielen Dank für Ihr positives Feedback! Es freut uns sehr zu hören, dass Ihnen unser Essen, der freundliche Service und die angenehme Atmosphäre gefallen haben. Wir sind stolz darauf, Ihnen ein großartiges Erlebnis zu bieten, und freuen uns darauf, Sie bald wieder bei uns begrüßen zu dürfen. Bis zum nächsten Mal!'"
      ]
     },
     "execution_count": 107,
     "metadata": {},
     "output_type": "execute_result"
    }
   ],
   "source": [
    "response['followup_message']"
   ]
  },
  {
   "cell_type": "code",
   "execution_count": null,
   "id": "36ff3ae8",
   "metadata": {},
   "outputs": [],
   "source": []
  }
 ],
 "metadata": {
  "kernelspec": {
   "display_name": "LangchainVenv",
   "language": "python",
   "name": "python3"
  },
  "language_info": {
   "codemirror_mode": {
    "name": "ipython",
    "version": 3
   },
   "file_extension": ".py",
   "mimetype": "text/x-python",
   "name": "python",
   "nbconvert_exporter": "python",
   "pygments_lexer": "ipython3",
   "version": "3.11.9"
  }
 },
 "nbformat": 4,
 "nbformat_minor": 5
}
